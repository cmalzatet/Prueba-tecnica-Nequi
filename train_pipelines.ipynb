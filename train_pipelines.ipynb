{
 "cells": [
  {
   "cell_type": "markdown",
   "metadata": {},
   "source": [
    "# Este notebook se utiliza para mostrar los ejemplos de las diferentes etapas del proceso de entrenamiento"
   ]
  },
  {
   "cell_type": "markdown",
   "metadata": {},
   "source": [
    "## 1. Validacion\n"
   ]
  },
  {
   "cell_type": "code",
   "execution_count": null,
   "metadata": {},
   "outputs": [],
   "source": [
    "import os\n",
    "from libs.verification import FileVerification\n",
    "\n",
    "raw_data_folder_path = \"./raw/train/\"\n",
    "\n",
    "train_data_path = raw_data_folder_path + os.listdir(raw_data_folder_path)[0]\n",
    "required_columns = [\"score\",\"text\"]\n",
    "valid_formats = [\"csv\"]\n",
    "\n",
    "verificador = FileVerification(\n",
    "    source_path=train_data_path,\n",
    "    required_columns=required_columns,\n",
    "    valid_formats=valid_formats\n",
    ")\n",
    "\n",
    "resultado = verificador.verify()\n",
    "resultado"
   ]
  },
  {
   "cell_type": "markdown",
   "metadata": {},
   "source": [
    "## 2. Procesamiento y ETL"
   ]
  },
  {
   "cell_type": "code",
   "execution_count": null,
   "metadata": {},
   "outputs": [],
   "source": [
    "from libs.processing import FileProcessing\n",
    "\n",
    "processed_data_folder_path = \"./processed/train/\"\n",
    "\n",
    "train_data_path = processed_data_folder_path + os.listdir(processed_data_folder_path)[0]\n",
    "required_columns = [\"score\",\"embedding\"]\n",
    "\n",
    "procesador = FileProcessing(\n",
    "    source_path=train_data_path,\n",
    "    required_columns=required_columns)\n",
    "\n",
    "resultado = procesador.process()"
   ]
  },
  {
   "cell_type": "markdown",
   "metadata": {},
   "source": [
    "## 3. Entrenamiento del modelo"
   ]
  },
  {
   "cell_type": "code",
   "execution_count": null,
   "metadata": {},
   "outputs": [],
   "source": [
    "from libs.training import TrainingProcess\n",
    "import os\n",
    "\n",
    "etl_data_folder_path = \"./etl/train/\"\n",
    "\n",
    "train_data_path = etl_data_folder_path + os.listdir(etl_data_folder_path)[0]\n",
    "\n",
    "version = \"0.1\"\n",
    "\n",
    "trainer = TrainingProcess(source_path=train_data_path, version=version)\n",
    "\n",
    "trainer.full_training_process()"
   ]
  }
 ],
 "metadata": {
  "kernelspec": {
   "display_name": ".venv.notebook",
   "language": "python",
   "name": "python3"
  },
  "language_info": {
   "codemirror_mode": {
    "name": "ipython",
    "version": 3
   },
   "file_extension": ".py",
   "mimetype": "text/x-python",
   "name": "python",
   "nbconvert_exporter": "python",
   "pygments_lexer": "ipython3",
   "version": "3.11.0"
  }
 },
 "nbformat": 4,
 "nbformat_minor": 2
}
