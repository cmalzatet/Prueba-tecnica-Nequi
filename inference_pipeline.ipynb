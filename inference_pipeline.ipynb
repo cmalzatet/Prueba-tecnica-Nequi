{
 "cells": [
  {
   "cell_type": "markdown",
   "metadata": {},
   "source": [
    "# Este notebook se utiliza para mostrar los ejemplos de las diferentes etapas del proceso de prediccion o inferencia"
   ]
  },
  {
   "cell_type": "markdown",
   "metadata": {},
   "source": [
    "## 1. Validacion\n"
   ]
  },
  {
   "cell_type": "code",
   "execution_count": null,
   "metadata": {},
   "outputs": [],
   "source": [
    "import os\n",
    "from libs.verification import FileVerification\n",
    "\n",
    "raw_data_folder_path = \"./raw/inference/\"\n",
    "\n",
    "inference_data_path = raw_data_folder_path + os.listdir(raw_data_folder_path)[0]\n",
    "required_columns = [\"text\"]\n",
    "valid_formats = [\"csv\"]\n",
    "\n",
    "verificador = FileVerification(\n",
    "    source_path=inference_data_path,\n",
    "    required_columns=required_columns,\n",
    "    valid_formats=valid_formats\n",
    ")\n",
    "\n",
    "resultado = verificador.verify()\n",
    "resultado"
   ]
  },
  {
   "cell_type": "markdown",
   "metadata": {},
   "source": [
    "## 2. Procesamiento y ETL"
   ]
  },
  {
   "cell_type": "code",
   "execution_count": null,
   "metadata": {},
   "outputs": [],
   "source": [
    "from libs.processing import FileProcessing\n",
    "\n",
    "processed_data_folder_path = \"./processed/inference/\"\n",
    "\n",
    "inference_data_path = processed_data_folder_path + os.listdir(processed_data_folder_path)[0]\n",
    "required_columns = [\"embedding\"]\n",
    "\n",
    "procesador = FileProcessing(\n",
    "    source_path=inference_data_path,\n",
    "    required_columns=required_columns)\n",
    "\n",
    "resultado = procesador.process()"
   ]
  },
  {
   "cell_type": "markdown",
   "metadata": {},
   "source": [
    "## 3. Inferencia"
   ]
  },
  {
   "cell_type": "code",
   "execution_count": null,
   "metadata": {},
   "outputs": [],
   "source": [
    "from libs.prediction import InferenceProcess\n",
    "import os\n",
    "\n",
    "etl_data_folder_path = \"./etl/inference/\"\n",
    "\n",
    "inference_data_path = etl_data_folder_path + os.listdir(etl_data_folder_path)[0]\n",
    "\n",
    "predictor = InferenceProcess(data_inference_path=inference_data_path)\n",
    "\n",
    "predictor.full_prediction_process()"
   ]
  },
  {
   "cell_type": "code",
   "execution_count": 5,
   "metadata": {},
   "outputs": [],
   "source": [
    "from libs.prediction import InferenceProcess\n",
    "from libs.processing import FileProcessing\n",
    "from libs.verification import FileVerification\n",
    "from libs.training import TrainingProcess"
   ]
  }
 ],
 "metadata": {
  "kernelspec": {
   "display_name": ".venv.notebook",
   "language": "python",
   "name": "python3"
  },
  "language_info": {
   "codemirror_mode": {
    "name": "ipython",
    "version": 3
   },
   "file_extension": ".py",
   "mimetype": "text/x-python",
   "name": "python",
   "nbconvert_exporter": "python",
   "pygments_lexer": "ipython3",
   "version": "3.11.0"
  }
 },
 "nbformat": 4,
 "nbformat_minor": 2
}
